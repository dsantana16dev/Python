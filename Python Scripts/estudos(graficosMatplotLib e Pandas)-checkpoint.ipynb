{
 "cells": [
  {
   "cell_type": "code",
   "execution_count": 2,
   "id": "d43a613e",
   "metadata": {},
   "outputs": [],
   "source": [
    "import matplotlib.pyplot as plt"
   ]
  },
  {
   "cell_type": "code",
   "execution_count": 6,
   "id": "8a7a5234",
   "metadata": {},
   "outputs": [],
   "source": [
    "x = [1, 2, 3, 4, 5, 6, 7, 8, 9, 10]\n",
    "y = [1, 2, 3, 4, 5, 6, 7, 8, 9, 10]"
   ]
  },
  {
   "cell_type": "code",
   "execution_count": 7,
   "id": "706ef6e9",
   "metadata": {
    "scrolled": true
   },
   "outputs": [
    {
     "data": {
      "image/png": "[encoded data removed]",
      "text/plain": [
       "<Figure size 432x288 with 1 Axes>"
      ]
     },
     "metadata": {
      "needs_background": "light"
     },
     "output_type": "display_data"
    }
   ],
   "source": [
    "plt.scatter(x, y)\n",
    "plt.show()"
   ]
  },
  {
   "cell_type": "code",
   "execution_count": 10,
   "id": "82c1475b",
   "metadata": {},
   "outputs": [],
   "source": [
    "import numpy as np\n",
    "x1 = np.arange(0,1000,1)"
   ]
  },
  {
   "cell_type": "code",
   "execution_count": 12,
   "id": "30ac110f",
   "metadata": {},
   "outputs": [
    {
     "data": {
      "image/png": "[encoded data removed]",
      "text/plain": [
       "<Figure size 432x288 with 1 Axes>"
      ]
     },
     "metadata": {
      "needs_background": "light"
     },
     "output_type": "display_data"
    }
   ],
   "source": [
    "plt.plot(x1, x1**2)\n",
    "plt.show()"
   ]
  },
  {
   "cell_type": "code",
   "execution_count": null,
   "id": "3bd16ccf",
   "metadata": {},
   "outputs": [],
   "source": []
  },
  {
   "cell_type": "code",
   "execution_count": 17,
   "id": "c3e0589f",
   "metadata": {},
   "outputs": [
    {
     "name": "stdout",
     "output_type": "stream",
     "text": [
      "Requirement already satisfied: plotnine in c:\\users\\daninique\\anaconda3\\lib\\site-packages (0.9.0)\n",
      "Requirement already satisfied: matplotlib>=3.5.0 in c:\\users\\daninique\\anaconda3\\lib\\site-packages (from plotnine) (3.5.1)\n",
      "Requirement already satisfied: scipy>=1.5.0 in c:\\users\\daninique\\anaconda3\\lib\\site-packages (from plotnine) (1.7.3)\n",
      "Requirement already satisfied: mizani>=0.7.3 in c:\\users\\daninique\\anaconda3\\lib\\site-packages (from plotnine) (0.7.4)\n",
      "Requirement already satisfied: pandas>=1.3.5 in c:\\users\\daninique\\anaconda3\\lib\\site-packages (from plotnine) (1.4.2)\n",
      "Requirement already satisfied: statsmodels>=0.13.2 in c:\\users\\daninique\\anaconda3\\lib\\site-packages (from plotnine) (0.13.2)\n",
      "Requirement already satisfied: numpy>=1.19.0 in c:\\users\\daninique\\anaconda3\\lib\\site-packages (from plotnine) (1.21.5)\n",
      "Requirement already satisfied: patsy>=0.5.1 in c:\\users\\daninique\\anaconda3\\lib\\site-packages (from plotnine) (0.5.2)\n",
      "Requirement already satisfied: python-dateutil>=2.7 in c:\\users\\daninique\\anaconda3\\lib\\site-packages (from matplotlib>=3.5.0->plotnine) (2.8.2)\n",
      "Requirement already satisfied: fonttools>=4.22.0 in c:\\users\\daninique\\anaconda3\\lib\\site-packages (from matplotlib>=3.5.0->plotnine) (4.25.0)\n",
      "Requirement already satisfied: cycler>=0.10 in c:\\users\\daninique\\anaconda3\\lib\\site-packages (from matplotlib>=3.5.0->plotnine) (0.11.0)\n",
      "Requirement already satisfied: pillow>=6.2.0 in c:\\users\\daninique\\anaconda3\\lib\\site-packages (from matplotlib>=3.5.0->plotnine) (9.0.1)\n",
      "Requirement already satisfied: kiwisolver>=1.0.1 in c:\\users\\daninique\\anaconda3\\lib\\site-packages (from matplotlib>=3.5.0->plotnine) (1.3.2)\n",
      "Requirement already satisfied: packaging>=20.0 in c:\\users\\daninique\\anaconda3\\lib\\site-packages (from matplotlib>=3.5.0->plotnine) (21.3)\n",
      "Requirement already satisfied: pyparsing>=2.2.1 in c:\\users\\daninique\\anaconda3\\lib\\site-packages (from matplotlib>=3.5.0->plotnine) (3.0.4)\n",
      "Requirement already satisfied: palettable in c:\\users\\daninique\\anaconda3\\lib\\site-packages (from mizani>=0.7.3->plotnine) (3.3.0)\n",
      "Requirement already satisfied: pytz>=2020.1 in c:\\users\\daninique\\anaconda3\\lib\\site-packages (from pandas>=1.3.5->plotnine) (2021.3)\n",
      "Requirement already satisfied: six in c:\\users\\daninique\\anaconda3\\lib\\site-packages (from patsy>=0.5.1->plotnine) (1.16.0)\n",
      "Note: you may need to restart the kernel to use updated packages.\n"
     ]
    }
   ],
   "source": [
    "pip install plotnine"
   ]
  },
  {
   "cell_type": "code",
   "execution_count": 19,
   "id": "3e26edd4",
   "metadata": {},
   "outputs": [],
   "source": [
    "import plotnine\n",
    "from plotnine import ggplot as glt\n",
    "import pandas as pd"
   ]
  },
  {
   "cell_type": "code",
   "execution_count": null,
   "id": "ffd59415",
   "metadata": {},
   "outputs": [],
   "source": []
  },
  {
   "cell_type": "markdown",
   "id": "a8f5b455",
   "metadata": {},
   "source": [
    "pandas usado para trabalhar com dataframe(planilhas)\n",
    "\n",
    "import pandas as pd #importa a biblioteca pandas\n",
    "\n",
    "alunos = {'nome':['Ricardo', \"Pedro\", 'Roberto', 'Carlos']\n",
    "            \"nota\":[4, 7, 5.5, 9]\n",
    "            \"Aprovado\":['não', 'sim', 'não', 'sim']\n",
    "            \n",
    " transformar o dicionário em DataFrame\n",
    " \n",
    " dataframe = pd.Dataframe(alunos)\n",
    " \n",
    " print(dataframe)\n",
    " \n",
    " \n",
    " \n",
    " \n",
    " objeto1 = pd.Series([1, 3, 6, 8, 3, 21])\n",
    " print(objeto1)\n",
    " \n",
    " \n",
    " import numpy as np\n",
    " array = np.array([1, 3, 6, 8, 3, 21])\n",
    " "
   ]
  },
  {
   "cell_type": "code",
   "execution_count": 23,
   "id": "b69d38bf",
   "metadata": {},
   "outputs": [],
   "source": [
    "import pandas as pd\n",
    "\n",
    "alunosDIC = {'nome':['Ricardo', \"Pedro\", 'Roberto', 'Carlos'],\n",
    "            \"nota\":[4, 7, 5.5, 9],\n",
    "            \"Aprovado\":['não', 'sim', 'não', 'sim']}\n"
   ]
  },
  {
   "cell_type": "code",
   "execution_count": 25,
   "id": "3036eb82",
   "metadata": {},
   "outputs": [
    {
     "name": "stdout",
     "output_type": "stream",
     "text": [
      "      nome  nota Aprovado\n",
      "0  Ricardo   4.0      não\n",
      "1    Pedro   7.0      sim\n",
      "2  Roberto   5.5      não\n",
      "3   Carlos   9.0      sim\n"
     ]
    }
   ],
   "source": [
    "alunosDF = pd.DataFrame(alunosDIC)\n",
    "print(alunosDF)"
   ]
  },
  {
   "cell_type": "code",
   "execution_count": 26,
   "id": "c82638da",
   "metadata": {},
   "outputs": [
    {
     "data": {
      "text/html": [
       "<div>\n",
       "<style scoped>\n",
       "    .dataframe tbody tr th:only-of-type {\n",
       "        vertical-align: middle;\n",
       "    }\n",
       "\n",
       "    .dataframe tbody tr th {\n",
       "        vertical-align: top;\n",
       "    }\n",
       "\n",
       "    .dataframe thead th {\n",
       "        text-align: right;\n",
       "    }\n",
       "</style>\n",
       "<table border=\"1\" class=\"dataframe\">\n",
       "  <thead>\n",
       "    <tr style=\"text-align: right;\">\n",
       "      <th></th>\n",
       "      <th>nome</th>\n",
       "      <th>nota</th>\n",
       "      <th>Aprovado</th>\n",
       "    </tr>\n",
       "  </thead>\n",
       "  <tbody>\n",
       "    <tr>\n",
       "      <th>0</th>\n",
       "      <td>Ricardo</td>\n",
       "      <td>4.0</td>\n",
       "      <td>não</td>\n",
       "    </tr>\n",
       "    <tr>\n",
       "      <th>1</th>\n",
       "      <td>Pedro</td>\n",
       "      <td>7.0</td>\n",
       "      <td>sim</td>\n",
       "    </tr>\n",
       "    <tr>\n",
       "      <th>2</th>\n",
       "      <td>Roberto</td>\n",
       "      <td>5.5</td>\n",
       "      <td>não</td>\n",
       "    </tr>\n",
       "    <tr>\n",
       "      <th>3</th>\n",
       "      <td>Carlos</td>\n",
       "      <td>9.0</td>\n",
       "      <td>sim</td>\n",
       "    </tr>\n",
       "  </tbody>\n",
       "</table>\n",
       "</div>"
      ],
      "text/plain": [
       "      nome  nota Aprovado\n",
       "0  Ricardo   4.0      não\n",
       "1    Pedro   7.0      sim\n",
       "2  Roberto   5.5      não\n",
       "3   Carlos   9.0      sim"
      ]
     },
     "execution_count": 26,
     "metadata": {},
     "output_type": "execute_result"
    }
   ],
   "source": [
    "alunosDF.head()"
   ]
  },
  {
   "cell_type": "code",
   "execution_count": 28,
   "id": "d7e5b0f8",
   "metadata": {},
   "outputs": [
    {
     "data": {
      "text/plain": [
       "(4, 3)"
      ]
     },
     "execution_count": 28,
     "metadata": {},
     "output_type": "execute_result"
    }
   ],
   "source": [
    "alunosDF.shape\n"
   ]
  },
  {
   "cell_type": "code",
   "execution_count": 29,
   "id": "8872ecb7",
   "metadata": {},
   "outputs": [
    {
     "data": {
      "text/html": [
       "<div>\n",
       "<style scoped>\n",
       "    .dataframe tbody tr th:only-of-type {\n",
       "        vertical-align: middle;\n",
       "    }\n",
       "\n",
       "    .dataframe tbody tr th {\n",
       "        vertical-align: top;\n",
       "    }\n",
       "\n",
       "    .dataframe thead th {\n",
       "        text-align: right;\n",
       "    }\n",
       "</style>\n",
       "<table border=\"1\" class=\"dataframe\">\n",
       "  <thead>\n",
       "    <tr style=\"text-align: right;\">\n",
       "      <th></th>\n",
       "      <th>nota</th>\n",
       "    </tr>\n",
       "  </thead>\n",
       "  <tbody>\n",
       "    <tr>\n",
       "      <th>count</th>\n",
       "      <td>4.000000</td>\n",
       "    </tr>\n",
       "    <tr>\n",
       "      <th>mean</th>\n",
       "      <td>6.375000</td>\n",
       "    </tr>\n",
       "    <tr>\n",
       "      <th>std</th>\n",
       "      <td>2.136001</td>\n",
       "    </tr>\n",
       "    <tr>\n",
       "      <th>min</th>\n",
       "      <td>4.000000</td>\n",
       "    </tr>\n",
       "    <tr>\n",
       "      <th>25%</th>\n",
       "      <td>5.125000</td>\n",
       "    </tr>\n",
       "    <tr>\n",
       "      <th>50%</th>\n",
       "      <td>6.250000</td>\n",
       "    </tr>\n",
       "    <tr>\n",
       "      <th>75%</th>\n",
       "      <td>7.500000</td>\n",
       "    </tr>\n",
       "    <tr>\n",
       "      <th>max</th>\n",
       "      <td>9.000000</td>\n",
       "    </tr>\n",
       "  </tbody>\n",
       "</table>\n",
       "</div>"
      ],
      "text/plain": [
       "           nota\n",
       "count  4.000000\n",
       "mean   6.375000\n",
       "std    2.136001\n",
       "min    4.000000\n",
       "25%    5.125000\n",
       "50%    6.250000\n",
       "75%    7.500000\n",
       "max    9.000000"
      ]
     },
     "execution_count": 29,
     "metadata": {},
     "output_type": "execute_result"
    }
   ],
   "source": [
    "alunosDF.describe()"
   ]
  },
  {
   "cell_type": "markdown",
   "id": "9b603b58",
   "metadata": {},
   "source": [
    "Fazer filtros em um dataframe\n"
   ]
  },
  {
   "cell_type": "code",
   "execution_count": 30,
   "id": "2587806a",
   "metadata": {},
   "outputs": [
    {
     "data": {
      "text/plain": [
       "0    Ricardo\n",
       "1      Pedro\n",
       "2    Roberto\n",
       "3     Carlos\n",
       "Name: nome, dtype: object"
      ]
     },
     "execution_count": 30,
     "metadata": {},
     "output_type": "execute_result"
    }
   ],
   "source": [
    "alunosDF['nome']"
   ]
  },
  {
   "cell_type": "code",
   "execution_count": 31,
   "id": "8dbea141",
   "metadata": {},
   "outputs": [
    {
     "data": {
      "text/plain": [
       "0    4.0\n",
       "1    7.0\n",
       "2    5.5\n",
       "3    9.0\n",
       "Name: nota, dtype: float64"
      ]
     },
     "execution_count": 31,
     "metadata": {},
     "output_type": "execute_result"
    }
   ],
   "source": [
    "alunosDF['nota']"
   ]
  },
  {
   "cell_type": "code",
   "execution_count": 35,
   "id": "7b140e92",
   "metadata": {},
   "outputs": [
    {
     "data": {
      "text/html": [
       "<div>\n",
       "<style scoped>\n",
       "    .dataframe tbody tr th:only-of-type {\n",
       "        vertical-align: middle;\n",
       "    }\n",
       "\n",
       "    .dataframe tbody tr th {\n",
       "        vertical-align: top;\n",
       "    }\n",
       "\n",
       "    .dataframe thead th {\n",
       "        text-align: right;\n",
       "    }\n",
       "</style>\n",
       "<table border=\"1\" class=\"dataframe\">\n",
       "  <thead>\n",
       "    <tr style=\"text-align: right;\">\n",
       "      <th></th>\n",
       "      <th>nome</th>\n",
       "      <th>nota</th>\n",
       "      <th>Aprovado</th>\n",
       "    </tr>\n",
       "  </thead>\n",
       "  <tbody>\n",
       "    <tr>\n",
       "      <th>3</th>\n",
       "      <td>Carlos</td>\n",
       "      <td>9.0</td>\n",
       "      <td>sim</td>\n",
       "    </tr>\n",
       "  </tbody>\n",
       "</table>\n",
       "</div>"
      ],
      "text/plain": [
       "     nome  nota Aprovado\n",
       "3  Carlos   9.0      sim"
      ]
     },
     "execution_count": 35,
     "metadata": {},
     "output_type": "execute_result"
    }
   ],
   "source": [
    "alunosDF.loc[[3]] #puxa a linha 1"
   ]
  },
  {
   "cell_type": "code",
   "execution_count": 36,
   "id": "d5a21b35",
   "metadata": {},
   "outputs": [
    {
     "data": {
      "text/html": [
       "<div>\n",
       "<style scoped>\n",
       "    .dataframe tbody tr th:only-of-type {\n",
       "        vertical-align: middle;\n",
       "    }\n",
       "\n",
       "    .dataframe tbody tr th {\n",
       "        vertical-align: top;\n",
       "    }\n",
       "\n",
       "    .dataframe thead th {\n",
       "        text-align: right;\n",
       "    }\n",
       "</style>\n",
       "<table border=\"1\" class=\"dataframe\">\n",
       "  <thead>\n",
       "    <tr style=\"text-align: right;\">\n",
       "      <th></th>\n",
       "      <th>nome</th>\n",
       "      <th>nota</th>\n",
       "      <th>Aprovado</th>\n",
       "    </tr>\n",
       "  </thead>\n",
       "  <tbody>\n",
       "    <tr>\n",
       "      <th>1</th>\n",
       "      <td>Pedro</td>\n",
       "      <td>7.0</td>\n",
       "      <td>sim</td>\n",
       "    </tr>\n",
       "    <tr>\n",
       "      <th>0</th>\n",
       "      <td>Ricardo</td>\n",
       "      <td>4.0</td>\n",
       "      <td>não</td>\n",
       "    </tr>\n",
       "    <tr>\n",
       "      <th>3</th>\n",
       "      <td>Carlos</td>\n",
       "      <td>9.0</td>\n",
       "      <td>sim</td>\n",
       "    </tr>\n",
       "  </tbody>\n",
       "</table>\n",
       "</div>"
      ],
      "text/plain": [
       "      nome  nota Aprovado\n",
       "1    Pedro   7.0      sim\n",
       "0  Ricardo   4.0      não\n",
       "3   Carlos   9.0      sim"
      ]
     },
     "execution_count": 36,
     "metadata": {},
     "output_type": "execute_result"
    }
   ],
   "source": [
    "alunosDF.loc[[1, 0, 3]]"
   ]
  },
  {
   "cell_type": "code",
   "execution_count": 37,
   "id": "a0c83642",
   "metadata": {},
   "outputs": [
    {
     "data": {
      "text/html": [
       "<div>\n",
       "<style scoped>\n",
       "    .dataframe tbody tr th:only-of-type {\n",
       "        vertical-align: middle;\n",
       "    }\n",
       "\n",
       "    .dataframe tbody tr th {\n",
       "        vertical-align: top;\n",
       "    }\n",
       "\n",
       "    .dataframe thead th {\n",
       "        text-align: right;\n",
       "    }\n",
       "</style>\n",
       "<table border=\"1\" class=\"dataframe\">\n",
       "  <thead>\n",
       "    <tr style=\"text-align: right;\">\n",
       "      <th></th>\n",
       "      <th>nome</th>\n",
       "      <th>nota</th>\n",
       "      <th>Aprovado</th>\n",
       "    </tr>\n",
       "  </thead>\n",
       "  <tbody>\n",
       "    <tr>\n",
       "      <th>0</th>\n",
       "      <td>Ricardo</td>\n",
       "      <td>4.0</td>\n",
       "      <td>não</td>\n",
       "    </tr>\n",
       "    <tr>\n",
       "      <th>1</th>\n",
       "      <td>Pedro</td>\n",
       "      <td>7.0</td>\n",
       "      <td>sim</td>\n",
       "    </tr>\n",
       "    <tr>\n",
       "      <th>2</th>\n",
       "      <td>Roberto</td>\n",
       "      <td>5.5</td>\n",
       "      <td>não</td>\n",
       "    </tr>\n",
       "  </tbody>\n",
       "</table>\n",
       "</div>"
      ],
      "text/plain": [
       "      nome  nota Aprovado\n",
       "0  Ricardo   4.0      não\n",
       "1    Pedro   7.0      sim\n",
       "2  Roberto   5.5      não"
      ]
     },
     "execution_count": 37,
     "metadata": {},
     "output_type": "execute_result"
    }
   ],
   "source": [
    "alunosDF.loc[0:2]"
   ]
  },
  {
   "cell_type": "code",
   "execution_count": 38,
   "id": "0f0f515c",
   "metadata": {},
   "outputs": [
    {
     "data": {
      "text/html": [
       "<div>\n",
       "<style scoped>\n",
       "    .dataframe tbody tr th:only-of-type {\n",
       "        vertical-align: middle;\n",
       "    }\n",
       "\n",
       "    .dataframe tbody tr th {\n",
       "        vertical-align: top;\n",
       "    }\n",
       "\n",
       "    .dataframe thead th {\n",
       "        text-align: right;\n",
       "    }\n",
       "</style>\n",
       "<table border=\"1\" class=\"dataframe\">\n",
       "  <thead>\n",
       "    <tr style=\"text-align: right;\">\n",
       "      <th></th>\n",
       "      <th>nome</th>\n",
       "      <th>nota</th>\n",
       "      <th>Aprovado</th>\n",
       "    </tr>\n",
       "  </thead>\n",
       "  <tbody>\n",
       "    <tr>\n",
       "      <th>1</th>\n",
       "      <td>Pedro</td>\n",
       "      <td>7.0</td>\n",
       "      <td>sim</td>\n",
       "    </tr>\n",
       "  </tbody>\n",
       "</table>\n",
       "</div>"
      ],
      "text/plain": [
       "    nome  nota Aprovado\n",
       "1  Pedro   7.0      sim"
      ]
     },
     "execution_count": 38,
     "metadata": {},
     "output_type": "execute_result"
    }
   ],
   "source": [
    "alunosDF.loc[ alunosDF['nome']=='Pedro'] #puxa a linha que tem o dado pedro no dataframe"
   ]
  },
  {
   "cell_type": "code",
   "execution_count": 41,
   "id": "f2780a94",
   "metadata": {},
   "outputs": [
    {
     "data": {
      "text/html": [
       "<div>\n",
       "<style scoped>\n",
       "    .dataframe tbody tr th:only-of-type {\n",
       "        vertical-align: middle;\n",
       "    }\n",
       "\n",
       "    .dataframe tbody tr th {\n",
       "        vertical-align: top;\n",
       "    }\n",
       "\n",
       "    .dataframe thead th {\n",
       "        text-align: right;\n",
       "    }\n",
       "</style>\n",
       "<table border=\"1\" class=\"dataframe\">\n",
       "  <thead>\n",
       "    <tr style=\"text-align: right;\">\n",
       "      <th></th>\n",
       "      <th>nome</th>\n",
       "      <th>nota</th>\n",
       "      <th>Aprovado</th>\n",
       "    </tr>\n",
       "  </thead>\n",
       "  <tbody>\n",
       "    <tr>\n",
       "      <th>1</th>\n",
       "      <td>Pedro</td>\n",
       "      <td>7.0</td>\n",
       "      <td>sim</td>\n",
       "    </tr>\n",
       "    <tr>\n",
       "      <th>3</th>\n",
       "      <td>Carlos</td>\n",
       "      <td>9.0</td>\n",
       "      <td>sim</td>\n",
       "    </tr>\n",
       "  </tbody>\n",
       "</table>\n",
       "</div>"
      ],
      "text/plain": [
       "     nome  nota Aprovado\n",
       "1   Pedro   7.0      sim\n",
       "3  Carlos   9.0      sim"
      ]
     },
     "execution_count": 41,
     "metadata": {},
     "output_type": "execute_result"
    }
   ],
   "source": [
    "alunosDF.loc[alunosDF['Aprovado']=='sim']"
   ]
  },
  {
   "cell_type": "code",
   "execution_count": 2,
   "id": "6cedf0e1",
   "metadata": {},
   "outputs": [
    {
     "name": "stdout",
     "output_type": "stream",
     "text": [
      "El item  0  es par, exponencial de dos  0\n",
      "El item  1  es impar, división entre dos  0.5\n",
      "El item  2  es par, exponencial de dos  4\n",
      "El item  3  es impar, división entre dos  1.5\n",
      "El item  4  es par, exponencial de dos  16\n",
      "El item  5  es impar, división entre dos  2.5\n",
      "El item  6  es par, exponencial de dos  36\n",
      "El item  7  es impar, división entre dos  3.5\n",
      "El item  8  es par, exponencial de dos  64\n",
      "El item  9  es impar, división entre dos  4.5\n",
      "El item  10  es par, exponencial de dos  100\n"
     ]
    }
   ],
   "source": [
    "for item in range(11):\n",
    "    if item % 2 == 0:\n",
    "        print('El item ', item, ' es par, exponencial de dos ', item ** 2, '\\n')\n",
    "    else:\n",
    "        print('El item ', item, ' es impar, división entre dos ', item / 2, '\\n')"
   ]
  },
  {
   "cell_type": "code",
   "execution_count": 3,
   "id": "1083892c",
   "metadata": {},
   "outputs": [
    {
     "name": "stdout",
     "output_type": "stream",
     "text": [
      "Introduce una palabra ola\n",
      "La palabra introducida  ola  no es fin\n",
      "Introduce una nueva palabra fin\n",
      "fin\n"
     ]
    }
   ],
   "source": [
    "cad = input('Introduce una palabra ')\n",
    "\n",
    "while not cad == 'fin': # Equivalente a while cad != 'fin'\n",
    "    print('La palabra introducida ', cad, ' no es fin')\n",
    "    cad = input('Introduce una nueva palabra ')\n",
    "else:\n",
    "    print(cad)"
   ]
  },
  {
   "cell_type": "code",
   "execution_count": 4,
   "id": "81ec092e",
   "metadata": {},
   "outputs": [
    {
     "name": "stdout",
     "output_type": "stream",
     "text": [
      "ERROR !\n",
      "ERROR !\n",
      "ERROR !\n",
      "ERROR !\n",
      "ERROR !\n",
      "ERROR !\n",
      "ERROR !\n",
      "ERROR !\n",
      "ERROR !\n",
      "La variable a ya tiene un valor de  10\n"
     ]
    }
   ],
   "source": [
    "a = 1\n",
    "\n",
    "while a != 10:\n",
    "    print('ERROR !')\n",
    "    a += 1\n",
    "else:\n",
    "    print('La variable a ya tiene un valor de ', a)"
   ]
  }
 ],
 "metadata": {
  "kernelspec": {
   "display_name": "Python 3 (ipykernel)",
   "language": "python",
   "name": "python3"
  },
  "language_info": {
   "codemirror_mode": {
    "name": "ipython",
    "version": 3
   },
   "file_extension": ".py",
   "mimetype": "text/x-python",
   "name": "python",
   "nbconvert_exporter": "python",
   "pygments_lexer": "ipython3",
   "version": "3.9.13"
  }
 },
 "nbformat": 4,
 "nbformat_minor": 5
}
