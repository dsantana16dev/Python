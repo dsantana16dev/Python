{
 "cells": [
  {
   "cell_type": "code",
   "execution_count": 4,
   "id": "25271541",
   "metadata": {},
   "outputs": [],
   "source": [
    "# importando bibliotecas\n",
    "# por convenção vamos chamar o pandas de pd\n",
    "import pandas as pd"
   ]
  },
  {
   "cell_type": "code",
   "execution_count": 5,
   "id": "6eddaca4",
   "metadata": {},
   "outputs": [
    {
     "data": {
      "text/html": [
       "<div>\n",
       "<style scoped>\n",
       "    .dataframe tbody tr th:only-of-type {\n",
       "        vertical-align: middle;\n",
       "    }\n",
       "\n",
       "    .dataframe tbody tr th {\n",
       "        vertical-align: top;\n",
       "    }\n",
       "\n",
       "    .dataframe thead th {\n",
       "        text-align: right;\n",
       "    }\n",
       "</style>\n",
       "<table border=\"1\" class=\"dataframe\">\n",
       "  <thead>\n",
       "    <tr style=\"text-align: right;\">\n",
       "      <th></th>\n",
       "      <th>sigla_unidade_ensino</th>\n",
       "      <th>nome_unidade_ensino</th>\n",
       "      <th>dt_autorizacao</th>\n",
       "      <th>sigla_uf_unidade_ensino</th>\n",
       "      <th>nome_municipio_unidade_ensino</th>\n",
       "    </tr>\n",
       "  </thead>\n",
       "  <tbody>\n",
       "    <tr>\n",
       "      <th>0</th>\n",
       "      <td>NaN</td>\n",
       "      <td>ASSOCIAÇÃO TÉCNICO EDUCACIONAL EQUIPE</td>\n",
       "      <td>03/02/2015 17:31:40</td>\n",
       "      <td>RS</td>\n",
       "      <td>Sapucaia do Sul</td>\n",
       "    </tr>\n",
       "    <tr>\n",
       "      <th>1</th>\n",
       "      <td>NaN</td>\n",
       "      <td>CEFET DO MARANHAO</td>\n",
       "      <td>14/02/2014 19:44:56</td>\n",
       "      <td>MA</td>\n",
       "      <td>Tutóia</td>\n",
       "    </tr>\n",
       "    <tr>\n",
       "      <th>2</th>\n",
       "      <td>NaN</td>\n",
       "      <td>CEFET MG CAMPUS II</td>\n",
       "      <td>23/06/2010 14:27:47</td>\n",
       "      <td>MG</td>\n",
       "      <td>Belo Horizonte</td>\n",
       "    </tr>\n",
       "    <tr>\n",
       "      <th>3</th>\n",
       "      <td>NaN</td>\n",
       "      <td>CEFET-MG/campusV/Divinópolis</td>\n",
       "      <td>06/04/2009 08:07:15</td>\n",
       "      <td>MG</td>\n",
       "      <td>Divinópolis</td>\n",
       "    </tr>\n",
       "    <tr>\n",
       "      <th>4</th>\n",
       "      <td>NaN</td>\n",
       "      <td>CEFET - MG UNED contagem</td>\n",
       "      <td>21/03/2012 16:58:14</td>\n",
       "      <td>MG</td>\n",
       "      <td>Contagem</td>\n",
       "    </tr>\n",
       "    <tr>\n",
       "      <th>5</th>\n",
       "      <td>NaN</td>\n",
       "      <td>CEFET - MG UNED contagem</td>\n",
       "      <td>21/03/2012 16:58:30</td>\n",
       "      <td>MG</td>\n",
       "      <td>Contagem</td>\n",
       "    </tr>\n",
       "    <tr>\n",
       "      <th>6</th>\n",
       "      <td>NaN</td>\n",
       "      <td>CEFET- MINAS Campus Contagem</td>\n",
       "      <td>21/03/2012 16:15:01</td>\n",
       "      <td>MG</td>\n",
       "      <td>Contagem</td>\n",
       "    </tr>\n",
       "    <tr>\n",
       "      <th>7</th>\n",
       "      <td>NaN</td>\n",
       "      <td>CEMAB</td>\n",
       "      <td>05/07/2013 18:18:53</td>\n",
       "      <td>DF</td>\n",
       "      <td>Brasília</td>\n",
       "    </tr>\n",
       "    <tr>\n",
       "      <th>8</th>\n",
       "      <td>NaN</td>\n",
       "      <td>CENTRO DE EDUCAÇÃO TECNOLÓGICA E PESQUISA EM S...</td>\n",
       "      <td>26/12/2017 11:47:37</td>\n",
       "      <td>RS</td>\n",
       "      <td>Porto Alegre</td>\n",
       "    </tr>\n",
       "    <tr>\n",
       "      <th>9</th>\n",
       "      <td>NaN</td>\n",
       "      <td>CENTRO DE ENSINO TÉCNICO IPIRANGA</td>\n",
       "      <td>27/01/2014 12:47:34</td>\n",
       "      <td>SP</td>\n",
       "      <td>Mogi das Cruzes</td>\n",
       "    </tr>\n",
       "  </tbody>\n",
       "</table>\n",
       "</div>"
      ],
      "text/plain": [
       "  sigla_unidade_ensino                                nome_unidade_ensino  \\\n",
       "0                  NaN             ASSOCIAÇÃO TÉCNICO EDUCACIONAL EQUIPE    \n",
       "1                  NaN                                  CEFET DO MARANHAO   \n",
       "2                  NaN                                 CEFET MG CAMPUS II   \n",
       "3                  NaN                       CEFET-MG/campusV/Divinópolis   \n",
       "4                  NaN                           CEFET - MG UNED contagem   \n",
       "5                  NaN                           CEFET - MG UNED contagem   \n",
       "6                  NaN                       CEFET- MINAS Campus Contagem   \n",
       "7                  NaN                                              CEMAB   \n",
       "8                  NaN  CENTRO DE EDUCAÇÃO TECNOLÓGICA E PESQUISA EM S...   \n",
       "9                  NaN                  CENTRO DE ENSINO TÉCNICO IPIRANGA   \n",
       "\n",
       "        dt_autorizacao sigla_uf_unidade_ensino nome_municipio_unidade_ensino  \n",
       "0  03/02/2015 17:31:40                      RS               Sapucaia do Sul  \n",
       "1  14/02/2014 19:44:56                      MA                        Tutóia  \n",
       "2  23/06/2010 14:27:47                      MG                Belo Horizonte  \n",
       "3  06/04/2009 08:07:15                      MG                   Divinópolis  \n",
       "4  21/03/2012 16:58:14                      MG                      Contagem  \n",
       "5  21/03/2012 16:58:30                      MG                      Contagem  \n",
       "6  21/03/2012 16:15:01                      MG                      Contagem  \n",
       "7  05/07/2013 18:18:53                      DF                      Brasília  \n",
       "8  26/12/2017 11:47:37                      RS                  Porto Alegre  \n",
       "9  27/01/2014 12:47:34                      SP               Mogi das Cruzes  "
      ]
     },
     "execution_count": 5,
     "metadata": {},
     "output_type": "execute_result"
    }
   ],
   "source": [
    "# Carregar o arquivo csv\n",
    "# Pandas vai converter o arquivo em um DataFrame\n",
    "# Por convenção chamamos dataframe de df\n",
    "# o separador pode ser != de , no CSV. Se isso ocorrer precisa avisar ao pandas\n",
    "# encoding muda o codigo de escrita - codigo de excel salvo para csv - cp1252\n",
    "# EX: df = pd.read_csv('Unidades_da_Rede_Federal_de_EPCT.csv', sep=';', encoding='cp1252')\n",
    "\n",
    "df = pd.read_csv('Unidades_da_Rede_Federal_de_EPCT.csv')\n",
    "\n",
    "# ver a cabeça do dataframe\n",
    "df.head(10)"
   ]
  },
  {
   "cell_type": "code",
   "execution_count": 6,
   "id": "716378fa",
   "metadata": {},
   "outputs": [
    {
     "data": {
      "text/plain": [
       "sigla_unidade_ensino             794\n",
       "nome_unidade_ensino              977\n",
       "dt_autorizacao                   977\n",
       "sigla_uf_unidade_ensino          977\n",
       "nome_municipio_unidade_ensino    977\n",
       "dtype: int64"
      ]
     },
     "execution_count": 6,
     "metadata": {},
     "output_type": "execute_result"
    }
   ],
   "source": [
    "# quantas escolas no arquivo\n",
    "df.count()"
   ]
  },
  {
   "cell_type": "code",
   "execution_count": 7,
   "id": "8fd4d9de",
   "metadata": {},
   "outputs": [
    {
     "data": {
      "text/html": [
       "<div>\n",
       "<style scoped>\n",
       "    .dataframe tbody tr th:only-of-type {\n",
       "        vertical-align: middle;\n",
       "    }\n",
       "\n",
       "    .dataframe tbody tr th {\n",
       "        vertical-align: top;\n",
       "    }\n",
       "\n",
       "    .dataframe thead th {\n",
       "        text-align: right;\n",
       "    }\n",
       "</style>\n",
       "<table border=\"1\" class=\"dataframe\">\n",
       "  <thead>\n",
       "    <tr style=\"text-align: right;\">\n",
       "      <th></th>\n",
       "      <th>sigla_unidade_ensino</th>\n",
       "      <th>nome_unidade_ensino</th>\n",
       "      <th>dt_autorizacao</th>\n",
       "      <th>sigla_uf_unidade_ensino</th>\n",
       "      <th>nome_municipio_unidade_ensino</th>\n",
       "    </tr>\n",
       "  </thead>\n",
       "  <tbody>\n",
       "    <tr>\n",
       "      <th>count</th>\n",
       "      <td>794</td>\n",
       "      <td>977</td>\n",
       "      <td>977</td>\n",
       "      <td>977</td>\n",
       "      <td>977</td>\n",
       "    </tr>\n",
       "    <tr>\n",
       "      <th>unique</th>\n",
       "      <td>58</td>\n",
       "      <td>964</td>\n",
       "      <td>976</td>\n",
       "      <td>27</td>\n",
       "      <td>726</td>\n",
       "    </tr>\n",
       "    <tr>\n",
       "      <th>top</th>\n",
       "      <td>IFMG</td>\n",
       "      <td>CENTRO FEDERAL DE EDUCAÇÃO TÉCNOLOGICA DE MINA...</td>\n",
       "      <td>21/11/2008 09:17:36</td>\n",
       "      <td>MG</td>\n",
       "      <td>Rio de Janeiro</td>\n",
       "    </tr>\n",
       "    <tr>\n",
       "      <th>freq</th>\n",
       "      <td>85</td>\n",
       "      <td>3</td>\n",
       "      <td>2</td>\n",
       "      <td>205</td>\n",
       "      <td>25</td>\n",
       "    </tr>\n",
       "  </tbody>\n",
       "</table>\n",
       "</div>"
      ],
      "text/plain": [
       "       sigla_unidade_ensino  \\\n",
       "count                   794   \n",
       "unique                   58   \n",
       "top                    IFMG   \n",
       "freq                     85   \n",
       "\n",
       "                                      nome_unidade_ensino  \\\n",
       "count                                                 977   \n",
       "unique                                                964   \n",
       "top     CENTRO FEDERAL DE EDUCAÇÃO TÉCNOLOGICA DE MINA...   \n",
       "freq                                                    3   \n",
       "\n",
       "             dt_autorizacao sigla_uf_unidade_ensino  \\\n",
       "count                   977                     977   \n",
       "unique                  976                      27   \n",
       "top     21/11/2008 09:17:36                      MG   \n",
       "freq                      2                     205   \n",
       "\n",
       "       nome_municipio_unidade_ensino  \n",
       "count                            977  \n",
       "unique                           726  \n",
       "top                   Rio de Janeiro  \n",
       "freq                              25  "
      ]
     },
     "execution_count": 7,
     "metadata": {},
     "output_type": "execute_result"
    }
   ],
   "source": [
    "# descreve as colunas numéricas\n",
    "df.describe()"
   ]
  },
  {
   "cell_type": "code",
   "execution_count": 8,
   "id": "59260654",
   "metadata": {},
   "outputs": [
    {
     "data": {
      "text/plain": [
       "sigla_unidade_ensino             object\n",
       "nome_unidade_ensino              object\n",
       "dt_autorizacao                   object\n",
       "sigla_uf_unidade_ensino          object\n",
       "nome_municipio_unidade_ensino    object\n",
       "dtype: object"
      ]
     },
     "execution_count": 8,
     "metadata": {},
     "output_type": "execute_result"
    }
   ],
   "source": [
    "# mostra os tipos de cada coluna do df\n",
    "df.dtypes"
   ]
  },
  {
   "cell_type": "code",
   "execution_count": 9,
   "id": "c461b19f",
   "metadata": {},
   "outputs": [
    {
     "data": {
      "text/plain": [
       "Rio de Janeiro    25\n",
       "Brasília          20\n",
       "Natal             12\n",
       "Manaus             8\n",
       "Uberaba            7\n",
       "                  ..\n",
       "Xanxerê            1\n",
       "Araraquara         1\n",
       "Araras             1\n",
       "Fernandópolis      1\n",
       "Tianguá            1\n",
       "Name: nome_municipio_unidade_ensino, Length: 726, dtype: int64"
      ]
     },
     "execution_count": 9,
     "metadata": {},
     "output_type": "execute_result"
    }
   ],
   "source": [
    "# quantas escolas existem em cada cidade\n",
    "df['nome_municipio_unidade_ensino'].value_counts()\n"
   ]
  },
  {
   "cell_type": "code",
   "execution_count": 10,
   "id": "2e512577",
   "metadata": {},
   "outputs": [
    {
     "data": {
      "text/plain": [
       "MG    205\n",
       "RJ     70\n",
       "RS     66\n",
       "SP     61\n",
       "PR     60\n",
       "CE     47\n",
       "BA     44\n",
       "SC     42\n",
       "PI     32\n",
       "MA     32\n",
       "PE     31\n",
       "GO     30\n",
       "RN     29\n",
       "PB     28\n",
       "PA     26\n",
       "ES     23\n",
       "MT     23\n",
       "AM     22\n",
       "AL     21\n",
       "DF     20\n",
       "SE     12\n",
       "MS     11\n",
       "TO     11\n",
       "RO     10\n",
       "RR      7\n",
       "AC      7\n",
       "AP      7\n",
       "Name: sigla_uf_unidade_ensino, dtype: int64"
      ]
     },
     "execution_count": 10,
     "metadata": {},
     "output_type": "execute_result"
    }
   ],
   "source": [
    "# vamos contar por estado\n",
    "df['sigla_uf_unidade_ensino'].value_counts()"
   ]
  },
  {
   "cell_type": "code",
   "execution_count": 11,
   "id": "9f445f9b",
   "metadata": {},
   "outputs": [
    {
     "data": {
      "text/plain": [
       "<AxesSubplot:>"
      ]
     },
     "execution_count": 11,
     "metadata": {},
     "output_type": "execute_result"
    },
    {
     "data": {
      "image/png": "[encoded data removed]",
      "text/plain": [
       "<Figure size 432x288 with 1 Axes>"
      ]
     },
     "metadata": {
      "needs_background": "light"
     },
     "output_type": "display_data"
    }
   ],
   "source": [
    "# mostrando os dados em um gráfico\n",
    "\n",
    "# Precisamos informar que queremos visualozar o grafico\n",
    "# dentro do proprio notebook\n",
    "\n",
    "%matplotlib inline\n",
    "\n",
    "# agora vamos pegas as escolas por estado e motrar em um \n",
    "# gráfico de barras\n",
    "df['sigla_uf_unidade_ensino'].value_counts().plot.bar()"
   ]
  },
  {
   "cell_type": "code",
   "execution_count": 12,
   "id": "9f9b1954",
   "metadata": {},
   "outputs": [
    {
     "data": {
      "text/plain": [
       "(977, 5)"
      ]
     },
     "execution_count": 12,
     "metadata": {},
     "output_type": "execute_result"
    }
   ],
   "source": [
    "# verificar o tamanho do df\n",
    "# formato (linhas x colunas)\n",
    "df.shape"
   ]
  },
  {
   "cell_type": "code",
   "execution_count": 13,
   "id": "72f9eca2",
   "metadata": {},
   "outputs": [
    {
     "data": {
      "text/plain": [
       "sigla_unidade_ensino             object\n",
       "nome_unidade_ensino              object\n",
       "dt_autorizacao                   object\n",
       "sigla_uf_unidade_ensino          object\n",
       "nome_municipio_unidade_ensino    object\n",
       "dtype: object"
      ]
     },
     "execution_count": 13,
     "metadata": {},
     "output_type": "execute_result"
    }
   ],
   "source": [
    "# tipos de dados das colunas\n",
    "df.dtypes"
   ]
  },
  {
   "cell_type": "code",
   "execution_count": 14,
   "id": "35148195",
   "metadata": {},
   "outputs": [
    {
     "name": "stdout",
     "output_type": "stream",
     "text": [
      "<class 'pandas.core.frame.DataFrame'>\n",
      "RangeIndex: 977 entries, 0 to 976\n",
      "Data columns (total 5 columns):\n",
      " #   Column                         Non-Null Count  Dtype \n",
      "---  ------                         --------------  ----- \n",
      " 0   sigla_unidade_ensino           794 non-null    object\n",
      " 1   nome_unidade_ensino            977 non-null    object\n",
      " 2   dt_autorizacao                 977 non-null    object\n",
      " 3   sigla_uf_unidade_ensino        977 non-null    object\n",
      " 4   nome_municipio_unidade_ensino  977 non-null    object\n",
      "dtypes: object(5)\n",
      "memory usage: 38.3+ KB\n"
     ]
    }
   ],
   "source": [
    "# Descrever os dados\n",
    "df.info()"
   ]
  },
  {
   "cell_type": "code",
   "execution_count": null,
   "id": "d46929ef",
   "metadata": {},
   "outputs": [],
   "source": []
  }
 ],
 "metadata": {
  "kernelspec": {
   "display_name": "Python 3 (ipykernel)",
   "language": "python",
   "name": "python3"
  },
  "language_info": {
   "codemirror_mode": {
    "name": "ipython",
    "version": 3
   },
   "file_extension": ".py",
   "mimetype": "text/x-python",
   "name": "python",
   "nbconvert_exporter": "python",
   "pygments_lexer": "ipython3",
   "version": "3.9.12"
  }
 },
 "nbformat": 4,
 "nbformat_minor": 5
}
